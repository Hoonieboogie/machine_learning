{
 "cells": [
  {
   "cell_type": "markdown",
   "id": "e5dff891",
   "metadata": {},
   "source": [
    "# 분류 (Classification)\n",
    "\n",
    "- 입력 데이터를 미리 정의된 여러 클래스 중 하나로 예측하는 것 (범주형 데이터)\n",
    "    - 이진 분류: 양성(1), 음성(0) 중에 하나를 맞추는 것\n",
    "    - 다중 분류: 여러 클래스 중 하나를 맞추는 것"
   ]
  },
  {
   "cell_type": "markdown",
   "id": "f783960f",
   "metadata": {},
   "source": [
    "## Logistic Regression\n",
    "- 선형 회귀 방식으로 분류 문제를 해결하는 모델\n",
    "    - 이진 분류: 이진 분류를 위한 로지스틱 함수(시그모이드)를 통해 확률값을 계산하고 0 또는 1로 분류\n",
    "    - 다중 분류: 다중 분류를 위한 소프트맥스 함수를 통해 각 클래스별 확률값을 계산해 다중 분류"
   ]
  },
  {
   "cell_type": "markdown",
   "id": "0858a011",
   "metadata": {},
   "source": [
    "**하이퍼 파라미터**\n",
    "\n",
    "<table>\n",
    "  <thead>\n",
    "    <tr>\n",
    "      <th>하이퍼파라미터</th>\n",
    "      <th>설명</th>\n",
    "      <th>기본값</th>\n",
    "    </tr>\n",
    "  </thead>\n",
    "  <tbody>\n",
    "    <tr>\n",
    "      <td><code>penalty</code></td>\n",
    "      <td>정규화의 종류 지정 / <code>'l1'</code>, <code>'l2'</code>, <code>'elasticnet'</code>, <code>'none'</code> 중 선택</td>\n",
    "      <td><code>'l2'</code></td>\n",
    "    </tr>\n",
    "    <tr>\n",
    "      <td><code>C</code></td>\n",
    "      <td>정규화의 강도를 제어 / 값이 작을수록 강한 정규화 적용 (<code>1 / λ</code>로 해석 가능)</td>\n",
    "      <td><code>1.0</code></td>\n",
    "    </tr>\n",
    "    <tr>\n",
    "      <td><code>solver</code></td>\n",
    "      <td>최적화 알고리즘 선택 / <code>'newton-cg'</code>, <code>'lbfgs'</code>, <code>'liblinear'</code>, <code>'sag'</code>, <code>'saga'</code> 중 선택</td>\n",
    "      <td><code>'lbfgs'</code></td>\n",
    "    </tr>\n",
    "    <tr>\n",
    "      <td><code>max_iter</code></td>\n",
    "      <td>최적화를 위한 최대 반복 횟수</td>\n",
    "      <td><code>100</code></td>\n",
    "    </tr>\n",
    "    <tr>\n",
    "      <td><code>multi_class</code></td>\n",
    "      <td>다중 클래스 문제에서 사용할 전략 / <code>'auto'</code>, <code>'ovr'</code> (one-vs-rest), <code>'multinomial'</code> 중 선택</td>\n",
    "      <td><code>'auto'</code></td>\n",
    "    </tr>\n",
    "    <tr>\n",
    "      <td><code>fit_intercept</code></td>\n",
    "      <td>절편을 학습할지 여부 / <code>True</code> 또는 <code>False</code></td>\n",
    "      <td><code>True</code></td>\n",
    "    </tr>\n",
    "  </tbody>\n",
    "</table>"
   ]
  },
  {
   "cell_type": "markdown",
   "id": "aaf1dbe5",
   "metadata": {},
   "source": [
    "**solver**\n",
    "\n",
    "<table>\n",
    "  <thead>\n",
    "    <tr>\n",
    "      <th>Solver</th>\n",
    "      <th>설명</th>\n",
    "      <th>특징</th>\n",
    "      <th>추천 사용 상황</th>\n",
    "    </tr>\n",
    "  </thead>\n",
    "  <tbody>\n",
    "    <tr>\n",
    "      <td><strong>liblinear</strong></td>\n",
    "      <td>선형 분류를 위한 라이브러리인 \"LIBLINEAR\"에서 유래, 작은 데이터셋이나 희소 데이터셋에 적합한 이중 좌표축 감소법(Dual Coordinate Descent Algorithm) 사용</td>\n",
    "      <td>빠르고 메모리 효율적이며, L1 및 L2 정규화 모두를 지원</td>\n",
    "      <td>작은 크기의 데이터셋, 희소한 피처를 가진 데이터셋</td>\n",
    "    </tr>\n",
    "    <tr>\n",
    "      <td><strong>newton-cg</strong></td>\n",
    "      <td>Newton Conjugate Gradient 뉴턴법을 사용한 최적화 알고리즘, 큰 데이터셋에서도 효율적으로 동작</td>\n",
    "      <td>L2 정규화를 지원하며, 대규모 데이터셋에 적합</td>\n",
    "      <td>중대형 크기의 데이터셋</td>\n",
    "    </tr>\n",
    "    <tr>\n",
    "      <td><strong>lbfgs</strong></td>\n",
    "      <td>Broyden-Fletcher-Goldfarb-Shanno(BFGS) 알고리즘의 변형인 L-BFGS(Limited-memory Broyden–Fletcher–Goldfarb–Shanno) 알고리즘을 사용</td>\n",
    "      <td>L2 정규화를 지원하며, 메모리를 절약하면서도 효율적인 성능을 발휘</td>\n",
    "      <td>대규모 데이터셋, 다중 클래스 분류</td>\n",
    "    </tr>\n",
    "    <tr>\n",
    "      <td><strong>sag</strong></td>\n",
    "      <td>Stochastic Average Gradient 하강법으로, 점진적으로 평균 그래디언트를 사용하여 최적화</td>\n",
    "      <td>매우 큰 데이터셋에서 효율적이며, L2 정규화를 지원</td>\n",
    "      <td>매우 큰 크기의 데이터셋</td>\n",
    "    </tr>\n",
    "    <tr>\n",
    "      <td><strong>saga</strong></td>\n",
    "      <td>Stochastic Average Gradient Augmented / sag의 확장판으로, L1 및 L2 정규화 모두를 지원</td>\n",
    "      <td>희소 데이터셋에도 적합하며, 매우 큰 데이터셋에서 효율적</td>\n",
    "      <td>매우 큰 크기의 데이터셋, 희소한 피처를 가진 데이터셋</td>\n",
    "    </tr>\n",
    "  </tbody>\n",
    "</table>"
   ]
  },
  {
   "cell_type": "code",
   "execution_count": 4,
   "id": "54a6dd2c",
   "metadata": {},
   "outputs": [],
   "source": [
    "import numpy as np\n",
    "import pandas as pd\n",
    "import matplotlib.pyplot as plt\n",
    "import seaborn as sns"
   ]
  },
  {
   "cell_type": "markdown",
   "id": "4dcb3a91",
   "metadata": {},
   "source": [
    "### 이진 분류를 위한 Sigmoid 함수\n",
    "- 선형회귀식을 통해 도출한 예측값(z)을 0과 1 사이의 수로 변환해주는 활성화 함수 (Activation Function)\n",
    "\n",
    "$$\n",
    "sigmoid(z) = \\frac{1}{1+e^{-z}}\n",
    "$$\n",
    "  \n",
    "$$\n",
    "h_\\theta(x) = \\frac{1}{1 + e^{-\\theta^T x}}\n",
    "$$"
   ]
  },
  {
   "cell_type": "code",
   "execution_count": 5,
   "id": "83637cde",
   "metadata": {},
   "outputs": [
    {
     "data": {
      "image/png": "[encoded data removed]",
      "text/plain": [
       "<Figure size 640x480 with 1 Axes>"
      ]
     },
     "metadata": {},
     "output_type": "display_data"
    }
   ],
   "source": [
    "# sigmoid 시각화\n",
    "z = np.linspace(-5,5,100) # -5~5까지 100개 균등한 간격\n",
    "sigmoid_value = 1 / (1 + np.exp(-z))\n",
    "\n",
    "plt.plot(z, sigmoid_value)\n",
    "plt.axhline(y=0.5, color='red', linestyle='--') \n",
    "plt.xlabel('z')\n",
    "plt.ylabel('sigmoid(z)')\n",
    "plt.show()"
   ]
  },
  {
   "cell_type": "code",
   "execution_count": 6,
   "id": "0c49d483",
   "metadata": {},
   "outputs": [
    {
     "data": {
      "text/plain": [
       "Species\n",
       "Bream    35\n",
       "Smelt    14\n",
       "Name: count, dtype: int64"
      ]
     },
     "execution_count": 6,
     "metadata": {},
     "output_type": "execute_result"
    }
   ],
   "source": [
    "fish_df = pd.read_csv('./data/fish.csv')\n",
    "#fish_df['Species'].value_counts()\n",
    "\n",
    "is_bream_or_smelt = (fish_df['Species']=='Bream') | (fish_df['Species']=='Smelt')\n",
    "fish_df = fish_df[is_bream_or_smelt]\n",
    "fish_df['Species'].value_counts()"
   ]
  },
  {
   "cell_type": "code",
   "execution_count": 7,
   "id": "c61bd893",
   "metadata": {},
   "outputs": [
    {
     "data": {
      "text/html": [
       "<div>\n",
       "<style scoped>\n",
       "    .dataframe tbody tr th:only-of-type {\n",
       "        vertical-align: middle;\n",
       "    }\n",
       "\n",
       "    .dataframe tbody tr th {\n",
       "        vertical-align: top;\n",
       "    }\n",
       "\n",
       "    .dataframe thead th {\n",
       "        text-align: right;\n",
       "    }\n",
       "</style>\n",
       "<table border=\"1\" class=\"dataframe\">\n",
       "  <thead>\n",
       "    <tr style=\"text-align: right;\">\n",
       "      <th></th>\n",
       "      <th>Weight</th>\n",
       "      <th>Length</th>\n",
       "      <th>Diagonal</th>\n",
       "      <th>Height</th>\n",
       "      <th>Width</th>\n",
       "    </tr>\n",
       "  </thead>\n",
       "  <tbody>\n",
       "    <tr>\n",
       "      <th>count</th>\n",
       "      <td>49.000000</td>\n",
       "      <td>49.000000</td>\n",
       "      <td>49.000000</td>\n",
       "      <td>49.000000</td>\n",
       "      <td>49.000000</td>\n",
       "    </tr>\n",
       "    <tr>\n",
       "      <th>mean</th>\n",
       "      <td>444.500000</td>\n",
       "      <td>27.055102</td>\n",
       "      <td>31.120408</td>\n",
       "      <td>11.476400</td>\n",
       "      <td>4.259751</td>\n",
       "    </tr>\n",
       "    <tr>\n",
       "      <th>std</th>\n",
       "      <td>328.143233</td>\n",
       "      <td>10.242804</td>\n",
       "      <td>12.097296</td>\n",
       "      <td>6.150976</td>\n",
       "      <td>1.967686</td>\n",
       "    </tr>\n",
       "    <tr>\n",
       "      <th>min</th>\n",
       "      <td>6.700000</td>\n",
       "      <td>9.800000</td>\n",
       "      <td>10.800000</td>\n",
       "      <td>1.728400</td>\n",
       "      <td>1.047600</td>\n",
       "    </tr>\n",
       "    <tr>\n",
       "      <th>25%</th>\n",
       "      <td>19.700000</td>\n",
       "      <td>14.300000</td>\n",
       "      <td>15.200000</td>\n",
       "      <td>2.872800</td>\n",
       "      <td>1.879200</td>\n",
       "    </tr>\n",
       "    <tr>\n",
       "      <th>50%</th>\n",
       "      <td>500.000000</td>\n",
       "      <td>31.000000</td>\n",
       "      <td>36.200000</td>\n",
       "      <td>14.179500</td>\n",
       "      <td>5.072800</td>\n",
       "    </tr>\n",
       "    <tr>\n",
       "      <th>75%</th>\n",
       "      <td>700.000000</td>\n",
       "      <td>34.500000</td>\n",
       "      <td>39.700000</td>\n",
       "      <td>15.633000</td>\n",
       "      <td>5.589000</td>\n",
       "    </tr>\n",
       "    <tr>\n",
       "      <th>max</th>\n",
       "      <td>1000.000000</td>\n",
       "      <td>41.000000</td>\n",
       "      <td>46.500000</td>\n",
       "      <td>18.957000</td>\n",
       "      <td>6.749700</td>\n",
       "    </tr>\n",
       "  </tbody>\n",
       "</table>\n",
       "</div>"
      ],
      "text/plain": [
       "            Weight     Length   Diagonal     Height      Width\n",
       "count    49.000000  49.000000  49.000000  49.000000  49.000000\n",
       "mean    444.500000  27.055102  31.120408  11.476400   4.259751\n",
       "std     328.143233  10.242804  12.097296   6.150976   1.967686\n",
       "min       6.700000   9.800000  10.800000   1.728400   1.047600\n",
       "25%      19.700000  14.300000  15.200000   2.872800   1.879200\n",
       "50%     500.000000  31.000000  36.200000  14.179500   5.072800\n",
       "75%     700.000000  34.500000  39.700000  15.633000   5.589000\n",
       "max    1000.000000  41.000000  46.500000  18.957000   6.749700"
      ]
     },
     "metadata": {},
     "output_type": "display_data"
    },
    {
     "name": "stdout",
     "output_type": "stream",
     "text": [
      "<class 'pandas.core.frame.DataFrame'>\n",
      "Index: 49 entries, 0 to 158\n",
      "Data columns (total 6 columns):\n",
      " #   Column    Non-Null Count  Dtype  \n",
      "---  ------    --------------  -----  \n",
      " 0   Species   49 non-null     object \n",
      " 1   Weight    49 non-null     float64\n",
      " 2   Length    49 non-null     float64\n",
      " 3   Diagonal  49 non-null     float64\n",
      " 4   Height    49 non-null     float64\n",
      " 5   Width     49 non-null     float64\n",
      "dtypes: float64(5), object(1)\n",
      "memory usage: 2.7+ KB\n"
     ]
    },
    {
     "data": {
      "text/plain": [
       "None"
      ]
     },
     "metadata": {},
     "output_type": "display_data"
    }
   ],
   "source": [
    "display(fish_df.describe())\n",
    "display(fish_df.info())"
   ]
  },
  {
   "cell_type": "code",
   "execution_count": 8,
   "id": "afdc302f",
   "metadata": {},
   "outputs": [],
   "source": [
    "# 데이터 분리 및 정규와 (X-y 분리 / 훈련-평가 데이터 분리 / 정규화)\n",
    "from sklearn.model_selection import train_test_split\n",
    "from sklearn.preprocessing import StandardScaler\n",
    "\n",
    "X = fish_df.drop('Species', axis=1)\n",
    "y = fish_df['Species']\n",
    "\n",
    "X_train, X_test, y_train, y_test = train_test_split(X, y, random_state=42)\n",
    "\n",
    "scaler = StandardScaler()\n",
    "X_scaled_train = scaler.fit_transform(X_train)\n",
    "X_scaled_test = scaler.transform(X_test)"
   ]
  },
  {
   "cell_type": "code",
   "execution_count": 9,
   "id": "74ac8c3a",
   "metadata": {},
   "outputs": [
    {
     "data": {
      "text/plain": [
       "(1.0, 1.0)"
      ]
     },
     "execution_count": 9,
     "metadata": {},
     "output_type": "execute_result"
    }
   ],
   "source": [
    "# 모델 학습 및 평가\n",
    "from sklearn.linear_model import LogisticRegression\n",
    "\n",
    "lr_clf = LogisticRegression()\n",
    "lr_clf.fit(X_scaled_train, y_train)\n",
    "\n",
    "lr_clf.score(X_scaled_train, y_train), lr_clf.score(X_scaled_test, y_test) "
   ]
  },
  {
   "cell_type": "code",
   "execution_count": 10,
   "id": "c901da28",
   "metadata": {},
   "outputs": [
    {
     "name": "stdout",
     "output_type": "stream",
     "text": [
      "['Bream' 'Smelt' 'Smelt'] \n",
      "\n",
      "['Bream' 'Smelt']\n",
      "[[0.98159822 0.01840178]\n",
      " [0.04990096 0.95009904]\n",
      " [0.09298277 0.90701723]]\n"
     ]
    }
   ],
   "source": [
    "y_pred = lr_clf.predict(X_scaled_test[:3])\n",
    "print(y_pred, '\\n')\n",
    "print(lr_clf.classes_)                          #분류 카테고리\n",
    "print(lr_clf.predict_proba(X_scaled_test[:3]))  # 클래스별 확률"
   ]
  },
  {
   "cell_type": "markdown",
   "id": "06d55d81",
   "metadata": {},
   "source": [
    "#### 동작 직접 간단 구현"
   ]
  },
  {
   "cell_type": "code",
   "execution_count": 11,
   "id": "52b36a2a",
   "metadata": {},
   "outputs": [
    {
     "name": "stdout",
     "output_type": "stream",
     "text": [
      "[[-0.57717269 -0.79233938 -0.82533982 -0.86579233 -0.82205625]]\n",
      "[-2.38186126]\n",
      "[0.01840178 0.95009904 0.90701723]\n",
      "['Bream', 'Smelt', 'Smelt']\n"
     ]
    }
   ],
   "source": [
    "# w1x1 + w2x2 + w3x3 + w4x4 + w5x5 + b\n",
    "\n",
    "print(lr_clf.coef_)\n",
    "print(lr_clf.intercept_)\n",
    "\n",
    "# 새로운 X -> 선형회귀값 계산\n",
    "#z = np.dot(X_scaled_test[:3], lr_clf.coef_[0]) + lr_clf.intercept_ # 직접 계산한 것\n",
    "z = lr_clf.decision_function(X_scaled_test[:3]) # 위에 한 것 편하게 하기\n",
    "# 시그모이드 함수 적용 -> 결과값\n",
    "sigmoid_value = 1/(1+np.exp(-z))\n",
    "print(sigmoid_value)\n",
    "# 결과값 -> 최종 분류 결과\n",
    "result = ['Smelt'if value >= 0.5 else 'Bream' for value in sigmoid_value]\n",
    "print(result)"
   ]
  },
  {
   "cell_type": "markdown",
   "id": "eee24348",
   "metadata": {},
   "source": [
    "### 다중 분류를 위한 Softmax "
   ]
  },
  {
   "cell_type": "code",
   "execution_count": 12,
   "id": "c0261fd4",
   "metadata": {},
   "outputs": [],
   "source": [
    "# 데이터셋 생성\n",
    "from sklearn.datasets import make_classification # sklearn 에서 제공하는 가상 데이터셋 제공해주는 함수\n",
    "\n",
    "# 이런식으로 반환해줌\n",
    "X, y = make_classification(\n",
    "    n_samples= 100,\n",
    "    n_features= 4,  \n",
    "    n_informative= 3,   # 3개를 유의미한 feature로 하겠다  \n",
    "    n_redundant= 0,     # 중복 특성 개수\n",
    "    n_classes= 3,\n",
    "    random_state= 42\n",
    ")"
   ]
  },
  {
   "cell_type": "code",
   "execution_count": 13,
   "id": "1286ccce",
   "metadata": {},
   "outputs": [],
   "source": [
    "# 데이터 분리 \n",
    "X_train, X_test, y_train, y_test = \\\n",
    "train_test_split(X,y, random_state=42)"
   ]
  },
  {
   "cell_type": "code",
   "execution_count": 14,
   "id": "3ecc3f69",
   "metadata": {},
   "outputs": [
    {
     "data": {
      "text/plain": [
       "(0.7066666666666667, 0.44)"
      ]
     },
     "execution_count": 14,
     "metadata": {},
     "output_type": "execute_result"
    }
   ],
   "source": [
    "# 모델 학습 및 평가\n",
    "lr_clf = LogisticRegression()\n",
    "lr_clf.fit(X_train, y_train)\n",
    "\n",
    "lr_clf.score(X_train, y_train), lr_clf.score(X_test,y_test)"
   ]
  },
  {
   "cell_type": "code",
   "execution_count": 15,
   "id": "ee3db892",
   "metadata": {},
   "outputs": [
    {
     "name": "stdout",
     "output_type": "stream",
     "text": [
      "[1 0 0 1 2]\n"
     ]
    }
   ],
   "source": [
    "# 예측 (분류)\n",
    "print(lr_clf.predict(X_test[:5]))"
   ]
  },
  {
   "cell_type": "code",
   "execution_count": 16,
   "id": "8462f61a",
   "metadata": {},
   "outputs": [
    {
     "data": {
      "text/plain": [
       "array([[0.22917118, 0.39960169, 0.37122713],\n",
       "       [0.83550691, 0.16166581, 0.00282727],\n",
       "       [0.573597  , 0.32484717, 0.10155583],\n",
       "       [0.20188375, 0.64427073, 0.15384551],\n",
       "       [0.02755811, 0.07287149, 0.8995704 ]])"
      ]
     },
     "execution_count": 16,
     "metadata": {},
     "output_type": "execute_result"
    }
   ],
   "source": [
    "lr_clf.predict_proba(X_test[:5])"
   ]
  },
  {
   "cell_type": "code",
   "execution_count": 17,
   "id": "b28553fa",
   "metadata": {},
   "outputs": [
    {
     "name": "stdout",
     "output_type": "stream",
     "text": [
      "[[ 0.89441441  0.61903765 -0.35254926 -0.16837743]\n",
      " [ 0.10632026  0.03401018  0.43335793  0.09398105]\n",
      " [-1.00073467 -0.65304782 -0.08080867  0.07439638]]\n",
      "\n",
      "[ 0.29927161  0.3716549  -0.67092651]\n"
     ]
    }
   ],
   "source": [
    "print(lr_clf.coef_) # 클래스 3개라 coef도 3가지가 나옴 (row 개수)\n",
    "print()\n",
    "print(lr_clf.intercept_) # 결과 => [0번 클래스 절편, 1번 클래스 절편, 2번 클래스 절편] => 왜 3개? 클래스가 3개라서 y값이 3개가 나오므로"
   ]
  },
  {
   "cell_type": "code",
   "execution_count": 18,
   "id": "69233f38",
   "metadata": {},
   "outputs": [
    {
     "name": "stdout",
     "output_type": "stream",
     "text": [
      "[[0.22917118 0.39960169 0.37122713]\n",
      " [0.83550691 0.16166581 0.00282727]\n",
      " [0.573597   0.32484717 0.10155583]\n",
      " [0.20188375 0.64427073 0.15384551]\n",
      " [0.02755811 0.07287149 0.8995704 ]] \n",
      "\n",
      "[1 0 0 1 2]\n"
     ]
    }
   ],
   "source": [
    "z = lr_clf.decision_function(X_test[:5]) \n",
    "\n",
    "# softmax function 직접 만들기\n",
    "def softmax(z):\n",
    "    exp_z = np.exp(z)\n",
    "   \n",
    "    # np.sum은 기본적으로 차원축소시킴 -> 그래서 keepdims 파라미터 True로 바꿈\n",
    "    sum_exp_z = np.sum(exp_z, axis=1, keepdims=True) \n",
    "    #sum_exp_z = np.sum(exp_z, axis=1).reshape(-1,1) # 위랑 똑같음\n",
    "    \n",
    "    return exp_z / sum_exp_z\n",
    "\n",
    "softmax_value = softmax(z)\n",
    "\n",
    "print(softmax_value, '\\n') # .predict_proba(X_test[:5])랑 결과 똑같이 나옴\n",
    "\n",
    "print(np.argmax(softmax_value, axis=1))"
   ]
  },
  {
   "cell_type": "markdown",
   "id": "6af8a800",
   "metadata": {},
   "source": [
    "##  Logistic Regression 연습: 다중 생선 분류"
   ]
  },
  {
   "cell_type": "code",
   "execution_count": 19,
   "id": "a6ca95da",
   "metadata": {},
   "outputs": [],
   "source": [
    "import numpy as np\n",
    "import pandas as pd\n",
    "from sklearn.linear_model import LogisticRegression\n",
    "from sklearn.preprocessing import StandardScaler\n",
    "from sklearn.model_selection import train_test_split"
   ]
  },
  {
   "cell_type": "code",
   "execution_count": 20,
   "id": "2451e29c",
   "metadata": {},
   "outputs": [
    {
     "data": {
      "text/html": [
       "<div>\n",
       "<style scoped>\n",
       "    .dataframe tbody tr th:only-of-type {\n",
       "        vertical-align: middle;\n",
       "    }\n",
       "\n",
       "    .dataframe tbody tr th {\n",
       "        vertical-align: top;\n",
       "    }\n",
       "\n",
       "    .dataframe thead th {\n",
       "        text-align: right;\n",
       "    }\n",
       "</style>\n",
       "<table border=\"1\" class=\"dataframe\">\n",
       "  <thead>\n",
       "    <tr style=\"text-align: right;\">\n",
       "      <th></th>\n",
       "      <th>Species</th>\n",
       "      <th>Weight</th>\n",
       "      <th>Length</th>\n",
       "      <th>Diagonal</th>\n",
       "      <th>Height</th>\n",
       "      <th>Width</th>\n",
       "    </tr>\n",
       "  </thead>\n",
       "  <tbody>\n",
       "    <tr>\n",
       "      <th>0</th>\n",
       "      <td>Bream</td>\n",
       "      <td>242.0</td>\n",
       "      <td>25.4</td>\n",
       "      <td>30.0</td>\n",
       "      <td>11.52</td>\n",
       "      <td>4.0200</td>\n",
       "    </tr>\n",
       "    <tr>\n",
       "      <th>1</th>\n",
       "      <td>Bream</td>\n",
       "      <td>290.0</td>\n",
       "      <td>26.3</td>\n",
       "      <td>31.2</td>\n",
       "      <td>12.48</td>\n",
       "      <td>4.3056</td>\n",
       "    </tr>\n",
       "  </tbody>\n",
       "</table>\n",
       "</div>"
      ],
      "text/plain": [
       "  Species  Weight  Length  Diagonal  Height   Width\n",
       "0   Bream   242.0    25.4      30.0   11.52  4.0200\n",
       "1   Bream   290.0    26.3      31.2   12.48  4.3056"
      ]
     },
     "metadata": {},
     "output_type": "display_data"
    },
    {
     "name": "stdout",
     "output_type": "stream",
     "text": [
      "<class 'pandas.core.frame.DataFrame'>\n",
      "RangeIndex: 159 entries, 0 to 158\n",
      "Data columns (total 6 columns):\n",
      " #   Column    Non-Null Count  Dtype  \n",
      "---  ------    --------------  -----  \n",
      " 0   Species   159 non-null    object \n",
      " 1   Weight    159 non-null    float64\n",
      " 2   Length    159 non-null    float64\n",
      " 3   Diagonal  159 non-null    float64\n",
      " 4   Height    159 non-null    float64\n",
      " 5   Width     159 non-null    float64\n",
      "dtypes: float64(5), object(1)\n",
      "memory usage: 7.6+ KB\n"
     ]
    },
    {
     "data": {
      "text/plain": [
       "None"
      ]
     },
     "metadata": {},
     "output_type": "display_data"
    }
   ],
   "source": [
    "# 데이터 로드\n",
    "fish_df = pd.read_csv('./data/fish.csv')\n",
    "display(fish_df.head(2))\n",
    "display(fish_df.info())"
   ]
  },
  {
   "cell_type": "code",
   "execution_count": 21,
   "id": "76840cf7",
   "metadata": {},
   "outputs": [],
   "source": [
    "# 데이터 분리 및 정규화\n",
    "from sklearn.model_selection import train_test_split\n",
    "from sklearn.preprocessing import StandardScaler\n",
    "\n",
    "# 분리\n",
    "X = fish_df.drop('Species', axis= 1)\n",
    "y = fish_df['Species']\n",
    "X_train, X_test, y_train, y_test = train_test_split(X, y, random_state=42)\n",
    "\n",
    "# 정규화\n",
    "std_scaler = StandardScaler()\n",
    "X_train_scaled =std_scaler.fit_transform(X_train)\n",
    "X_test_scaled = std_scaler.transform(X_test)\n"
   ]
  },
  {
   "cell_type": "code",
   "execution_count": 22,
   "id": "73bbde76",
   "metadata": {},
   "outputs": [
    {
     "data": {
      "text/plain": [
       "(0.8067226890756303, 0.85)"
      ]
     },
     "execution_count": 22,
     "metadata": {},
     "output_type": "execute_result"
    }
   ],
   "source": [
    "# 모델 훈련 및 평가\n",
    "lr_clf = LogisticRegression()\n",
    "lr_clf.fit(X_train_scaled, y_train)\n",
    "\n",
    "lr_clf.score(X_train_scaled, y_train), lr_clf.score(X_test_scaled,y_test)"
   ]
  },
  {
   "cell_type": "code",
   "execution_count": 23,
   "id": "3987e3c9",
   "metadata": {},
   "outputs": [
    {
     "data": {
      "text/plain": [
       "array(['Perch', 'Smelt', 'Pike', 'Perch', 'Perch'], dtype=object)"
      ]
     },
     "execution_count": 23,
     "metadata": {},
     "output_type": "execute_result"
    }
   ],
   "source": [
    "# 예측\n",
    "lr_clf.predict(X_test_scaled[:5])"
   ]
  },
  {
   "cell_type": "code",
   "execution_count": 24,
   "id": "e48348e3",
   "metadata": {},
   "outputs": [
    {
     "data": {
      "text/plain": [
       "array(['Bream', 'Parkki', 'Perch', 'Pike', 'Roach', 'Smelt', 'Whitefish'],\n",
       "      dtype=object)"
      ]
     },
     "execution_count": 24,
     "metadata": {},
     "output_type": "execute_result"
    }
   ],
   "source": [
    "# 모델이 학습한 클래스 출력해보기 -> 알파벳순으로 출력함\n",
    "lr_clf.classes_"
   ]
  },
  {
   "cell_type": "code",
   "execution_count": 25,
   "id": "18ec35e9",
   "metadata": {},
   "outputs": [
    {
     "name": "stdout",
     "output_type": "stream",
     "text": [
      "[[4.09258166e-03 9.14963240e-02 5.44996127e-01 8.08441468e-03\n",
      "  2.80496746e-01 6.11374435e-02 9.69636363e-03]\n",
      " [2.38768197e-04 6.14759159e-02 1.26503179e-01 2.09669058e-03\n",
      "  8.69296309e-02 7.21909373e-01 8.46442652e-04]\n",
      " [9.31417295e-03 8.97045866e-03 2.23289703e-01 5.69130702e-01\n",
      "  1.69678810e-01 6.31583256e-03 1.33003205e-02]\n",
      " [6.09086533e-02 7.71114588e-02 5.26503923e-01 3.56050755e-02\n",
      "  2.56678732e-01 2.96709654e-03 4.02250605e-02]\n",
      " [4.20329168e-03 2.95499860e-02 6.63907569e-01 2.59621240e-02\n",
      "  2.44584026e-01 1.83957105e-02 1.33972930e-02]]\n",
      "\n",
      "\n",
      "[2 5 3 2 2]\n"
     ]
    }
   ],
   "source": [
    "# 테스트 데이터 5개에 대한 예측 확률 출력해보기\n",
    "predict_prob = lr_clf.predict_proba(X_test_scaled[:5])\n",
    "print(predict_prob)\n",
    "\n",
    "print('\\n')\n",
    "print(np.argmax(predict_prob, axis=1))"
   ]
  },
  {
   "cell_type": "code",
   "execution_count": 26,
   "id": "0d576b63",
   "metadata": {},
   "outputs": [
    {
     "name": "stdout",
     "output_type": "stream",
     "text": [
      "Z: -2.353342461290558 0.7537803507202023 2.5382602426869703 -1.6725803505731105 1.874043676938647 0.35060605549425894 -1.490767513976421\n",
      "P: [[0.00409258 0.09149632 0.54499613 0.00808441 0.28049675 0.06113744\n",
      "  0.00969636]]\n",
      "label: ['Perch']\n"
     ]
    }
   ],
   "source": [
    "# 모델의 가중치와 절편을 가져와 z값 직접 계산하기 (decision_function 사용X)\n",
    "# w1x1 + w2x2 + w3x3 + w4x4 + w5x5 + b\n",
    "z1 = np.dot(lr_clf.coef_[0], X_test_scaled[0]) + lr_clf.intercept_[0]\n",
    "z2 = np.dot(lr_clf.coef_[1], X_test_scaled[0]) + lr_clf.intercept_[1]\n",
    "z3 = np.dot(lr_clf.coef_[2], X_test_scaled[0]) + lr_clf.intercept_[2]\n",
    "z4 = np.dot(lr_clf.coef_[3], X_test_scaled[0]) + lr_clf.intercept_[3]\n",
    "z5 = np.dot(lr_clf.coef_[4], X_test_scaled[0]) + lr_clf.intercept_[4]\n",
    "z6 = np.dot(lr_clf.coef_[5], X_test_scaled[0]) + lr_clf.intercept_[5]\n",
    "z7 = np.dot(lr_clf.coef_[6], X_test_scaled[0]) + lr_clf.intercept_[6]\n",
    "print(\"Z:\", z1, z2, z3, z4, z5, z6, z7)\n",
    "\n",
    "# softmax 함수 적용하기 (위에서 만든 softmax() 함수 활용)\n",
    "Z = np.array([[z1, z2, z3, z4, z5, z6, z7]])\n",
    "# Z = lr_clf.decision_function(X_test_scaled[:1])\n",
    "P = softmax(Z)\n",
    "print(\"P:\", P)\n",
    "\n",
    "# 확률값이 가장 높은 클래스로 예측 결과 출력하기\n",
    "label = lr_clf.classes_[np.argmax(P, axis=1)]\n",
    "print(\"label:\", label)"
   ]
  }
 ],
 "metadata": {
  "kernelspec": {
   "display_name": "ml_env",
   "language": "python",
   "name": "python3"
  },
  "language_info": {
   "codemirror_mode": {
    "name": "ipython",
    "version": 3
   },
   "file_extension": ".py",
   "mimetype": "text/x-python",
   "name": "python",
   "nbconvert_exporter": "python",
   "pygments_lexer": "ipython3",
   "version": "3.12.11"
  }
 },
 "nbformat": 4,
 "nbformat_minor": 5
}
