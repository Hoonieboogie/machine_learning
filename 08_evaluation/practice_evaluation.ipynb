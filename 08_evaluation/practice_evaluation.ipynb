{
 "cells": [
  {
   "cell_type": "markdown",
   "id": "d1406d34",
   "metadata": {},
   "source": [
    "##### [실습] 농어 무게 예측 모델 비교\n",
    "\n",
    "농어의 길이, 높이, 너비값을 사용해 무게를 예측하는 문제를 최근접이웃모델과 선형회귀모델로 해결해 보세요.\n",
    "\n",
    "평가 함수를 만들고 성능 평가지표로는 평균제곱오차(MSE), 평균절대오차(MAE), 제곱평균제곱근오차(RMSE), 평균제곱로그오차(MSLE), 제곱평균제곱근로그오차(RMSLE), 결정계수(R²)를 사용해 결과를 출력하세요."
   ]
  },
  {
   "cell_type": "code",
   "execution_count": 18,
   "id": "dd9f11cc",
   "metadata": {},
   "outputs": [],
   "source": [
    "# import 구문\n",
    "import numpy as np\n",
    "import pandas as pd"
   ]
  },
  {
   "cell_type": "code",
   "execution_count": 27,
   "id": "45b97355",
   "metadata": {},
   "outputs": [
    {
     "data": {
      "text/html": [
       "<div>\n",
       "<style scoped>\n",
       "    .dataframe tbody tr th:only-of-type {\n",
       "        vertical-align: middle;\n",
       "    }\n",
       "\n",
       "    .dataframe tbody tr th {\n",
       "        vertical-align: top;\n",
       "    }\n",
       "\n",
       "    .dataframe thead th {\n",
       "        text-align: right;\n",
       "    }\n",
       "</style>\n",
       "<table border=\"1\" class=\"dataframe\">\n",
       "  <thead>\n",
       "    <tr style=\"text-align: right;\">\n",
       "      <th></th>\n",
       "      <th>length</th>\n",
       "      <th>height</th>\n",
       "      <th>width</th>\n",
       "    </tr>\n",
       "  </thead>\n",
       "  <tbody>\n",
       "    <tr>\n",
       "      <th>count</th>\n",
       "      <td>56.000000</td>\n",
       "      <td>56.000000</td>\n",
       "      <td>56.000000</td>\n",
       "    </tr>\n",
       "    <tr>\n",
       "      <th>mean</th>\n",
       "      <td>27.892857</td>\n",
       "      <td>7.862143</td>\n",
       "      <td>4.745536</td>\n",
       "    </tr>\n",
       "    <tr>\n",
       "      <th>std</th>\n",
       "      <td>9.021668</td>\n",
       "      <td>2.878343</td>\n",
       "      <td>1.775006</td>\n",
       "    </tr>\n",
       "    <tr>\n",
       "      <th>min</th>\n",
       "      <td>8.400000</td>\n",
       "      <td>2.110000</td>\n",
       "      <td>1.410000</td>\n",
       "    </tr>\n",
       "    <tr>\n",
       "      <th>25%</th>\n",
       "      <td>21.825000</td>\n",
       "      <td>5.690000</td>\n",
       "      <td>3.520000</td>\n",
       "    </tr>\n",
       "    <tr>\n",
       "      <th>50%</th>\n",
       "      <td>25.300000</td>\n",
       "      <td>6.920000</td>\n",
       "      <td>4.155000</td>\n",
       "    </tr>\n",
       "    <tr>\n",
       "      <th>75%</th>\n",
       "      <td>36.625000</td>\n",
       "      <td>10.850000</td>\n",
       "      <td>6.450000</td>\n",
       "    </tr>\n",
       "    <tr>\n",
       "      <th>max</th>\n",
       "      <td>44.000000</td>\n",
       "      <td>12.800000</td>\n",
       "      <td>8.140000</td>\n",
       "    </tr>\n",
       "  </tbody>\n",
       "</table>\n",
       "</div>"
      ],
      "text/plain": [
       "          length     height      width\n",
       "count  56.000000  56.000000  56.000000\n",
       "mean   27.892857   7.862143   4.745536\n",
       "std     9.021668   2.878343   1.775006\n",
       "min     8.400000   2.110000   1.410000\n",
       "25%    21.825000   5.690000   3.520000\n",
       "50%    25.300000   6.920000   4.155000\n",
       "75%    36.625000  10.850000   6.450000\n",
       "max    44.000000  12.800000   8.140000"
      ]
     },
     "execution_count": 27,
     "metadata": {},
     "output_type": "execute_result"
    }
   ],
   "source": [
    "perch_df = pd.read_csv('./data/perch_full.csv')\n",
    "perch_df.describe()"
   ]
  },
  {
   "cell_type": "code",
   "execution_count": null,
   "id": "697ef075",
   "metadata": {},
   "outputs": [
    {
     "data": {
      "text/plain": [
       "np.float64(5.9)"
      ]
     },
     "execution_count": 28,
     "metadata": {},
     "output_type": "execute_result"
    }
   ],
   "source": [
    "perch_weight = np.array([\n",
    "    5.9, 32.0, 40.0, 51.5, 70.0, 100.0, 78.0, 80.0, 85.0, 85.0,\n",
    "    110.0, 115.0, 125.0, 130.0, 120.0, 120.0, 130.0, 135.0, 110.0,\n",
    "    130.0, 150.0, 145.0, 150.0, 170.0, 225.0, 145.0, 188.0, 180.0,\n",
    "    197.0, 218.0, 300.0, 260.0, 265.0, 250.0, 250.0, 300.0, 320.0,\n",
    "    514.0, 556.0, 840.0, 685.0, 700.0, 700.0, 690.0, 900.0, 650.0,\n",
    "    820.0, 850.0, 900.0, 1015.0, 820.0, 1100.0, 1000.0, 1100.0,\n",
    "    1000.0, 1000.0])"
   ]
  },
  {
   "cell_type": "code",
   "execution_count": 21,
   "id": "f7e50c99",
   "metadata": {},
   "outputs": [],
   "source": [
    "from sklearn.model_selection import train_test_split\n",
    "X = perch_df\n",
    "y = perch_weight\n",
    "\n",
    "X_train, X_test, y_train, y_test = train_test_split(X,y,random_state=0)"
   ]
  },
  {
   "cell_type": "code",
   "execution_count": 22,
   "id": "e82a19fc",
   "metadata": {},
   "outputs": [],
   "source": [
    "# 평가 함수\n",
    "from sklearn.metrics import mean_squared_error          # MSE (평균 제곱 오차)\n",
    "from sklearn.metrics import root_mean_squared_error     # RMSE (제곱 평균 제곱근 오차)\n",
    "from sklearn.metrics import mean_absolute_error         # MAE (평균 절대 오차)\n",
    "from sklearn.metrics import mean_squared_log_error      # MSLE (평균 제곱 로그 오차)\n",
    "from sklearn.metrics import root_mean_squared_log_error # RMSLE (제곱 평균 제곱근 로그 오차)\n",
    "from sklearn.metrics import r2_score                    # R^2 결정계수\n",
    "\n",
    "def evaluation(y_true, y_pred):\n",
    "    print(f\"MSE:\", mean_squared_error(y_true, y_pred))\n",
    "    print(f\"RMSE:\", root_mean_squared_error(y_true, y_pred))\n",
    "    print(f\"MAE:\", mean_absolute_error(y_true, y_pred))\n",
    "    print(f\"MSLE\", mean_squared_log_error(y_true, y_pred))\n",
    "    print(f\"RMSLE:\", root_mean_squared_log_error(y_true, y_pred))\n",
    "    print(f\"R2:\", r2_score(y_true, y_pred))"
   ]
  },
  {
   "cell_type": "markdown",
   "id": "c30154b7",
   "metadata": {},
   "source": [
    "## KNN 이용"
   ]
  },
  {
   "cell_type": "code",
   "execution_count": 23,
   "id": "fb67a587",
   "metadata": {},
   "outputs": [
    {
     "name": "stdout",
     "output_type": "stream",
     "text": [
      "MSE: 3438.9271428571433\n",
      "RMSE: 58.64236645000902\n",
      "MAE: 36.51428571428573\n",
      "MSLE 0.030989970819817553\n",
      "RMSLE: 0.1760396853548016\n",
      "R2: 0.9479878898922857\n"
     ]
    }
   ],
   "source": [
    "from sklearn.neighbors import KNeighborsRegressor\n",
    "\n",
    "knn = KNeighborsRegressor()\n",
    "knn.fit(X_train, y_train)\n",
    "\n",
    "y_pred = knn.predict(X_test)\n",
    "\n",
    "evaluation(y_test, y_pred)"
   ]
  },
  {
   "cell_type": "markdown",
   "id": "2331c0ae",
   "metadata": {},
   "source": [
    "## LinearRegression 이용"
   ]
  },
  {
   "cell_type": "code",
   "execution_count": 29,
   "id": "3be456f2",
   "metadata": {},
   "outputs": [
    {
     "data": {
      "text/plain": [
       "array([743.90147888, 332.02803531, 773.52568472, 261.67074642,\n",
       "       141.79115082, -88.40955301, 298.77402915, 717.89637939,\n",
       "       934.0055103 , 454.2658189 ,   7.20118433, 137.27659792,\n",
       "       251.3986383 , 101.52907073])"
      ]
     },
     "execution_count": 29,
     "metadata": {},
     "output_type": "execute_result"
    }
   ],
   "source": [
    "from sklearn.linear_model import LinearRegression\n",
    "\n",
    "lr = LinearRegression()\n",
    "lr.fit(X_train, y_train)\n",
    "\n",
    "y_pred = lr.predict(X_test)\n",
    "\n",
    "y_pred\n",
    "#evaluation(y_test, y_pred)"
   ]
  }
 ],
 "metadata": {
  "kernelspec": {
   "display_name": "ml_env",
   "language": "python",
   "name": "python3"
  },
  "language_info": {
   "codemirror_mode": {
    "name": "ipython",
    "version": 3
   },
   "file_extension": ".py",
   "mimetype": "text/x-python",
   "name": "python",
   "nbconvert_exporter": "python",
   "pygments_lexer": "ipython3",
   "version": "3.12.11"
  }
 },
 "nbformat": 4,
 "nbformat_minor": 5
}
