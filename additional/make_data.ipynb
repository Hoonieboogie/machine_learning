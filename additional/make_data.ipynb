{
 "cells": [
  {
   "cell_type": "markdown",
   "id": "afc94d6c",
   "metadata": {},
   "source": [
    "# 가상 데이터 생성 (Faker)"
   ]
  },
  {
   "cell_type": "code",
   "execution_count": null,
   "id": "ad22809a",
   "metadata": {},
   "outputs": [
    {
     "name": "stdout",
     "output_type": "stream",
     "text": [
      "Requirement already satisfied: faker in c:\\users\\playdata\\appdata\\local\\anaconda3\\envs\\ml_env\\lib\\site-packages (37.5.3)\n",
      "Requirement already satisfied: tzdata in c:\\users\\playdata\\appdata\\local\\anaconda3\\envs\\ml_env\\lib\\site-packages (from faker) (2025.2)\n"
     ]
    }
   ],
   "source": [
    "#%pip install faker"
   ]
  },
  {
   "cell_type": "code",
   "execution_count": 30,
   "id": "3bcdb689",
   "metadata": {},
   "outputs": [
    {
     "name": "stdout",
     "output_type": "stream",
     "text": [
      "Alexandria Murillo\n",
      "Selena , Reed\n",
      "narroyo@example.net\n",
      "Hines-Vasquez\n",
      "1934-11-01\n"
     ]
    }
   ],
   "source": [
    "from faker import Faker\n",
    "\n",
    "fake = Faker()\n",
    "print(fake.name())\n",
    "print(fake.first_name(), \",\", fake.last_name())\n",
    "print(fake.email())\n",
    "print(fake.company())\n",
    "print(fake.date_of_birth(minimum_age=19, maximum_age=90))"
   ]
  },
  {
   "cell_type": "code",
   "execution_count": 31,
   "id": "ab0f749a",
   "metadata": {},
   "outputs": [
    {
     "data": {
      "text/plain": [
       "'PSC 6327, Box 0156\\nAPO AP 96000'"
      ]
     },
     "execution_count": 31,
     "metadata": {},
     "output_type": "execute_result"
    }
   ],
   "source": [
    "fake.address()"
   ]
  },
  {
   "cell_type": "code",
   "execution_count": 32,
   "id": "78d1086f",
   "metadata": {},
   "outputs": [],
   "source": [
    "# 가상 데이터를 생성하여 DataFrame으로 반환하는 함수\n",
    "import pandas as pd\n",
    "import random\n",
    "\n",
    "fake = Faker()\n",
    "\n",
    "def generate_customer_data(n=1000):\n",
    "    data = []\n",
    "\n",
    "    for i in range(n):\n",
    "        name = fake.name()                                              # name: 이름\n",
    "        address = fake.address().replace(',', ' ').replace('\\n', '_')   # address: 주소\n",
    "        age = fake.random_int(min=19, max=60)                           # age: 나이 (19세~60세)\n",
    "        sub_months = fake.random_int(min=1, max=120)                    # sub_months: 구독 개월 수 (최소 1개월, 최대 10년)\n",
    "        monthly_payment = round(random.uniform(10, 100), 2)             # monthly_payment: 월 결제 금액 (10달러~100달러) / 소수점 둘째자리\n",
    "        usage_frequency = fake.random_int(min=1, max=30)                # usage_frequency: 월간 사용 빈도 (최소 1회, 최대 30회)\n",
    "        stft_score = fake.random_int(min=1, max=5)                      # stft_score: 고객 만족도 점수 (1~5점)\n",
    "        churn = fake.boolean(chance_of_getting_true=30)                 # churn: 고객 이탈 여부 (30% 비율로 이탈)\n",
    "        \"\"\"\n",
    "        # 숫자 값은 random 모듈을 사용할 수도 있음\n",
    "        age = random.randint(19, 60)\n",
    "        sub_months = random.randint(1, 120)\n",
    "        monthly_payment = round(random.uniform(10, 100), 2)\n",
    "        usage_frequency = random.randint(1, 30)\n",
    "        stft_score = random.randint(1, 5)\n",
    "        churn = random.random() < 0.3 \n",
    "        \"\"\"\n",
    "        \n",
    "        data.append([name, address, age, sub_months, monthly_payment, usage_frequency, stft_score, churn])\n",
    "\n",
    "    columns = [\"NAME\", \"ADDRESS\", \"AGE\", \"SUB_MONTHS\", \"MONTHLY_PAYMENT\", \"USAGE_FEQ\", \"STFT\", \"CHURN\"]\n",
    "\n",
    "    return pd.DataFrame(data, columns=columns)"
   ]
  },
  {
   "cell_type": "code",
   "execution_count": 33,
   "id": "f5d27fd0",
   "metadata": {},
   "outputs": [],
   "source": [
    "customer_df = generate_customer_data(20000)\n",
    "\n",
    "customer_df.to_csv('customer_data.csv', index=False)"
   ]
  }
 ],
 "metadata": {
  "kernelspec": {
   "display_name": "ml_env",
   "language": "python",
   "name": "python3"
  },
  "language_info": {
   "codemirror_mode": {
    "name": "ipython",
    "version": 3
   },
   "file_extension": ".py",
   "mimetype": "text/x-python",
   "name": "python",
   "nbconvert_exporter": "python",
   "pygments_lexer": "ipython3",
   "version": "3.12.11"
  }
 },
 "nbformat": 4,
 "nbformat_minor": 5
}
