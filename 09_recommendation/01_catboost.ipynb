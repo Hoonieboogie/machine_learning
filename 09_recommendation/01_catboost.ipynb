{
 "cells": [
  {
   "cell_type": "markdown",
   "id": "8c3304f7",
   "metadata": {},
   "source": [
    "# 회귀 기반 추천 시스템"
   ]
  },
  {
   "cell_type": "markdown",
   "id": "7c08bd7c",
   "metadata": {},
   "source": [
    "> CatBoost (Categorical Boosting)"
   ]
  },
  {
   "cell_type": "code",
   "execution_count": 23,
   "id": "d7213a97",
   "metadata": {},
   "outputs": [
    {
     "name": "stdout",
     "output_type": "stream",
     "text": [
      "Requirement already satisfied: catboost in c:\\users\\playdata\\appdata\\local\\anaconda3\\envs\\ml_env\\lib\\site-packages (1.2.8)\n",
      "Requirement already satisfied: graphviz in c:\\users\\playdata\\appdata\\local\\anaconda3\\envs\\ml_env\\lib\\site-packages (from catboost) (0.21)\n",
      "Requirement already satisfied: matplotlib in c:\\users\\playdata\\appdata\\local\\anaconda3\\envs\\ml_env\\lib\\site-packages (from catboost) (3.10.3)\n",
      "Requirement already satisfied: numpy<3.0,>=1.16.0 in c:\\users\\playdata\\appdata\\local\\anaconda3\\envs\\ml_env\\lib\\site-packages (from catboost) (2.3.1)\n",
      "Requirement already satisfied: pandas>=0.24 in c:\\users\\playdata\\appdata\\local\\anaconda3\\envs\\ml_env\\lib\\site-packages (from catboost) (2.3.1)\n",
      "Requirement already satisfied: scipy in c:\\users\\playdata\\appdata\\local\\anaconda3\\envs\\ml_env\\lib\\site-packages (from catboost) (1.16.0)\n",
      "Requirement already satisfied: plotly in c:\\users\\playdata\\appdata\\local\\anaconda3\\envs\\ml_env\\lib\\site-packages (from catboost) (6.2.0)\n",
      "Requirement already satisfied: six in c:\\users\\playdata\\appdata\\local\\anaconda3\\envs\\ml_env\\lib\\site-packages (from catboost) (1.17.0)\n",
      "Requirement already satisfied: python-dateutil>=2.8.2 in c:\\users\\playdata\\appdata\\local\\anaconda3\\envs\\ml_env\\lib\\site-packages (from pandas>=0.24->catboost) (2.9.0.post0)\n",
      "Requirement already satisfied: pytz>=2020.1 in c:\\users\\playdata\\appdata\\local\\anaconda3\\envs\\ml_env\\lib\\site-packages (from pandas>=0.24->catboost) (2025.2)\n",
      "Requirement already satisfied: tzdata>=2022.7 in c:\\users\\playdata\\appdata\\local\\anaconda3\\envs\\ml_env\\lib\\site-packages (from pandas>=0.24->catboost) (2025.2)\n",
      "Requirement already satisfied: contourpy>=1.0.1 in c:\\users\\playdata\\appdata\\local\\anaconda3\\envs\\ml_env\\lib\\site-packages (from matplotlib->catboost) (1.3.2)\n",
      "Requirement already satisfied: cycler>=0.10 in c:\\users\\playdata\\appdata\\local\\anaconda3\\envs\\ml_env\\lib\\site-packages (from matplotlib->catboost) (0.12.1)\n",
      "Requirement already satisfied: fonttools>=4.22.0 in c:\\users\\playdata\\appdata\\local\\anaconda3\\envs\\ml_env\\lib\\site-packages (from matplotlib->catboost) (4.59.0)\n",
      "Requirement already satisfied: kiwisolver>=1.3.1 in c:\\users\\playdata\\appdata\\local\\anaconda3\\envs\\ml_env\\lib\\site-packages (from matplotlib->catboost) (1.4.8)\n",
      "Requirement already satisfied: packaging>=20.0 in c:\\users\\playdata\\appdata\\local\\anaconda3\\envs\\ml_env\\lib\\site-packages (from matplotlib->catboost) (25.0)\n",
      "Requirement already satisfied: pillow>=8 in c:\\users\\playdata\\appdata\\local\\anaconda3\\envs\\ml_env\\lib\\site-packages (from matplotlib->catboost) (11.3.0)\n",
      "Requirement already satisfied: pyparsing>=2.3.1 in c:\\users\\playdata\\appdata\\local\\anaconda3\\envs\\ml_env\\lib\\site-packages (from matplotlib->catboost) (3.2.3)\n",
      "Requirement already satisfied: narwhals>=1.15.1 in c:\\users\\playdata\\appdata\\local\\anaconda3\\envs\\ml_env\\lib\\site-packages (from plotly->catboost) (2.0.1)\n"
     ]
    }
   ],
   "source": [
    "!pip install catboost"
   ]
  },
  {
   "cell_type": "markdown",
   "id": "5ca3c9da",
   "metadata": {},
   "source": [
    "**데이터 구조**\n",
    "\n",
    "![](https://d.pr/i/YEs8M6+)\n",
    "\n",
    "\n",
    "여행스타일 8가지 (7단계)\n",
    "(매우선호 - 중간선호 - 약간선호 - 중립 - 약간선호 - 중간선호 - 매우 선호)\n",
    "- `TRAVEL_STYL_1` 자연 vs 도시\n",
    "- `TRAVEL_STYL_2` 숙박 vs 당일\n",
    "- `TRAVEL_STYL_3` 새로운 지역 vs 익숙한 지역\n",
    "- `TRAVEL_STYL_4` 편하지만 비싼 숙소 vs 불편하지만 저렴한 숙소\n",
    "- `TRAVEL_STYL_5` 휴양/휴식 vs 체험활동\n",
    "- `TRAVEL_STYL_6` 잘알려지지 않은 방문지 vs 알려진 방문지 \n",
    "- `TRAVEL_STYL_7` 계획에 따른 여행 vs 상황에 따른 여행\n",
    "- `TRAVEL_STYL_8` 사진촬영 중요하지 않음 vs 사진촬영 중요\n",
    "\n",
    "여행동기 3가지 (10단계)\n",
    "- `TRAVEL_MOTIVE_1` 여행의 주요 목적\n",
    "- `TRAVEL_MOTIVE_2` 여행의 부수적 목적1\n",
    "- `TRAVEL_MOTIVE_3` 여행의 부수적 목적2\n",
    "1. 일상적인 환경에서의 탈출\n",
    "2. 육체적 정신적 휴식\n",
    "3. 여행 동반자와의 친밀감 증진\n",
    "4. 자아찾기\n",
    "5. … (확인 안됨)"
   ]
  },
  {
   "cell_type": "code",
   "execution_count": 24,
   "id": "d28326a4",
   "metadata": {},
   "outputs": [
    {
     "name": "stdout",
     "output_type": "stream",
     "text": [
      "<class 'pandas.core.frame.DataFrame'>\n",
      "RangeIndex: 34572 entries, 0 to 34571\n",
      "Data columns (total 15 columns):\n",
      " #   Column                 Non-Null Count  Dtype  \n",
      "---  ------                 --------------  -----  \n",
      " 0   GENDER                 34572 non-null  object \n",
      " 1   AGE_GRP                34572 non-null  float64\n",
      " 2   TRAVEL_STYL_1          34572 non-null  float64\n",
      " 3   TRAVEL_STYL_2          34572 non-null  float64\n",
      " 4   TRAVEL_STYL_3          34572 non-null  float64\n",
      " 5   TRAVEL_STYL_4          34572 non-null  float64\n",
      " 6   TRAVEL_STYL_5          34572 non-null  float64\n",
      " 7   TRAVEL_STYL_6          34572 non-null  float64\n",
      " 8   TRAVEL_STYL_7          34572 non-null  float64\n",
      " 9   TRAVEL_STYL_8          34572 non-null  float64\n",
      " 10  TRAVEL_MOTIVE_1        34572 non-null  float64\n",
      " 11  TRAVEL_COMPANIONS_NUM  34572 non-null  float64\n",
      " 12  VISIT_AREA_NM          34572 non-null  object \n",
      " 13  MVMN_NM                34572 non-null  object \n",
      " 14  DGSTFN                 34572 non-null  float64\n",
      "dtypes: float64(12), object(3)\n",
      "memory usage: 4.0+ MB\n"
     ]
    }
   ],
   "source": [
    "import pandas as pd\n",
    "\n",
    "travel_df = pd.read_csv('./data/travel.csv')\n",
    "# travel_df.shape\n",
    "travel_df.info()"
   ]
  },
  {
   "cell_type": "code",
   "execution_count": 25,
   "id": "d3eb682c",
   "metadata": {},
   "outputs": [],
   "source": [
    "# float 데이터 -> int 변환\n",
    "travel_df[['AGE_GRP', 'TRAVEL_STYL_1', 'TRAVEL_STYL_2', 'TRAVEL_STYL_3', 'TRAVEL_STYL_4', 'TRAVEL_STYL_5', 'TRAVEL_STYL_6', 'TRAVEL_STYL_7', 'TRAVEL_STYL_8', 'TRAVEL_MOTIVE_1', 'TRAVEL_COMPANIONS_NUM']] \\\n",
    "    = travel_df[['AGE_GRP', 'TRAVEL_STYL_1', 'TRAVEL_STYL_2', 'TRAVEL_STYL_3', 'TRAVEL_STYL_4', 'TRAVEL_STYL_5', 'TRAVEL_STYL_6', 'TRAVEL_STYL_7', 'TRAVEL_STYL_8', 'TRAVEL_MOTIVE_1', 'TRAVEL_COMPANIONS_NUM']].astype(int)\n",
    "\n",
    "# travel_df.head()"
   ]
  },
  {
   "cell_type": "code",
   "execution_count": 26,
   "id": "991b5409",
   "metadata": {},
   "outputs": [],
   "source": [
    "from sklearn.model_selection import train_test_split\n",
    "\n",
    "X = travel_df.drop(\"DGSTFN\", axis=1)\n",
    "y = travel_df[\"DGSTFN\"]\n",
    "\n",
    "X_train, X_test, y_train, y_test = train_test_split(X, y, random_state=0)"
   ]
  },
  {
   "cell_type": "code",
   "execution_count": 27,
   "id": "a7219f1c",
   "metadata": {},
   "outputs": [],
   "source": [
    "from catboost import Pool\n",
    "\n",
    "# 범주형 특성 배열\n",
    "cat_features = [\n",
    "    'GENDER', 'AGE_GRP', \n",
    "    'TRAVEL_STYL_1', 'TRAVEL_STYL_2', 'TRAVEL_STYL_3', 'TRAVEL_STYL_4', \n",
    "    'TRAVEL_STYL_5', 'TRAVEL_STYL_6', 'TRAVEL_STYL_7', 'TRAVEL_STYL_8', \n",
    "    'TRAVEL_MOTIVE_1', 'TRAVEL_COMPANIONS_NUM',\n",
    "    'VISIT_AREA_NM', 'MVMN_NM'\n",
    "]\n",
    "\n",
    "# CatBoost 모델에서의 사용을 위한 Pool 객체 생성\n",
    "train_pool = Pool(X_train, y_train, cat_features=cat_features)\n",
    "test_pool = Pool(X_test, y_test, cat_features=cat_features)"
   ]
  },
  {
   "cell_type": "code",
   "execution_count": 28,
   "id": "203ce681",
   "metadata": {},
   "outputs": [
    {
     "name": "stdout",
     "output_type": "stream",
     "text": [
      "0:\tlearn: 0.8341962\ttest: 0.8359310\tbest: 0.8359310 (0)\ttotal: 31.9ms\tremaining: 15.9s\n",
      "100:\tlearn: 0.7985342\ttest: 0.7931506\tbest: 0.7931506 (100)\ttotal: 3.24s\tremaining: 12.8s\n",
      "200:\tlearn: 0.7863085\ttest: 0.7799891\tbest: 0.7799891 (200)\ttotal: 6.61s\tremaining: 9.84s\n",
      "300:\tlearn: 0.7817498\ttest: 0.7763301\tbest: 0.7763301 (300)\ttotal: 9.8s\tremaining: 6.48s\n",
      "400:\tlearn: 0.7787237\ttest: 0.7746257\tbest: 0.7746257 (400)\ttotal: 13.1s\tremaining: 3.23s\n",
      "499:\tlearn: 0.7764294\ttest: 0.7733956\tbest: 0.7733956 (499)\ttotal: 16.4s\tremaining: 0us\n",
      "\n",
      "bestTest = 0.773395606\n",
      "bestIteration = 499\n",
      "\n"
     ]
    },
    {
     "data": {
      "text/plain": [
       "<catboost.core.CatBoostRegressor at 0x210086732c0>"
      ]
     },
     "execution_count": 28,
     "metadata": {},
     "output_type": "execute_result"
    }
   ],
   "source": [
    "# 모델 생성 및 학습\n",
    "from catboost import CatBoostRegressor\n",
    "\n",
    "cb_reg = CatBoostRegressor(\n",
    "    n_estimators=500,       # 반복횟수 (내부 예측기 개수)\n",
    "    depth=5,                # 개별 트리의 최대 깊이\n",
    "    learning_rate=0.03,     # 학습률\n",
    "    loss_function='RMSE',   # 손실함수 (기본값)\n",
    "    eval_metric='RMSE'      # 평가지표 (기본값) - 학습과 평가(검증) 동시 진행 지원\n",
    ")\n",
    "\n",
    "cb_reg.fit(train_pool, eval_set=test_pool, verbose=100)\n",
    "# verbose=100 : 학습 100회당 한번씩 학습 및 검증 결과 출력"
   ]
  },
  {
   "cell_type": "code",
   "execution_count": 29,
   "id": "89ceb580",
   "metadata": {},
   "outputs": [
    {
     "data": {
      "text/html": [
       "<div>\n",
       "<style scoped>\n",
       "    .dataframe tbody tr th:only-of-type {\n",
       "        vertical-align: middle;\n",
       "    }\n",
       "\n",
       "    .dataframe tbody tr th {\n",
       "        vertical-align: top;\n",
       "    }\n",
       "\n",
       "    .dataframe thead th {\n",
       "        text-align: right;\n",
       "    }\n",
       "</style>\n",
       "<table border=\"1\" class=\"dataframe\">\n",
       "  <thead>\n",
       "    <tr style=\"text-align: right;\">\n",
       "      <th></th>\n",
       "      <th>column</th>\n",
       "      <th>importance</th>\n",
       "    </tr>\n",
       "  </thead>\n",
       "  <tbody>\n",
       "    <tr>\n",
       "      <th>0</th>\n",
       "      <td>GENDER</td>\n",
       "      <td>0.373389</td>\n",
       "    </tr>\n",
       "    <tr>\n",
       "      <th>1</th>\n",
       "      <td>AGE_GRP</td>\n",
       "      <td>7.351231</td>\n",
       "    </tr>\n",
       "    <tr>\n",
       "      <th>2</th>\n",
       "      <td>TRAVEL_STYL_1</td>\n",
       "      <td>7.058387</td>\n",
       "    </tr>\n",
       "    <tr>\n",
       "      <th>3</th>\n",
       "      <td>TRAVEL_STYL_2</td>\n",
       "      <td>6.958940</td>\n",
       "    </tr>\n",
       "    <tr>\n",
       "      <th>4</th>\n",
       "      <td>TRAVEL_STYL_3</td>\n",
       "      <td>4.288193</td>\n",
       "    </tr>\n",
       "    <tr>\n",
       "      <th>5</th>\n",
       "      <td>TRAVEL_STYL_4</td>\n",
       "      <td>9.604211</td>\n",
       "    </tr>\n",
       "    <tr>\n",
       "      <th>6</th>\n",
       "      <td>TRAVEL_STYL_5</td>\n",
       "      <td>8.382338</td>\n",
       "    </tr>\n",
       "    <tr>\n",
       "      <th>7</th>\n",
       "      <td>TRAVEL_STYL_6</td>\n",
       "      <td>8.360303</td>\n",
       "    </tr>\n",
       "    <tr>\n",
       "      <th>8</th>\n",
       "      <td>TRAVEL_STYL_7</td>\n",
       "      <td>8.541926</td>\n",
       "    </tr>\n",
       "    <tr>\n",
       "      <th>9</th>\n",
       "      <td>TRAVEL_STYL_8</td>\n",
       "      <td>11.937605</td>\n",
       "    </tr>\n",
       "    <tr>\n",
       "      <th>10</th>\n",
       "      <td>TRAVEL_MOTIVE_1</td>\n",
       "      <td>8.698019</td>\n",
       "    </tr>\n",
       "    <tr>\n",
       "      <th>11</th>\n",
       "      <td>TRAVEL_COMPANIONS_NUM</td>\n",
       "      <td>3.748143</td>\n",
       "    </tr>\n",
       "    <tr>\n",
       "      <th>12</th>\n",
       "      <td>VISIT_AREA_NM</td>\n",
       "      <td>14.696022</td>\n",
       "    </tr>\n",
       "    <tr>\n",
       "      <th>13</th>\n",
       "      <td>MVMN_NM</td>\n",
       "      <td>0.001293</td>\n",
       "    </tr>\n",
       "  </tbody>\n",
       "</table>\n",
       "</div>"
      ],
      "text/plain": [
       "                   column  importance\n",
       "0                  GENDER    0.373389\n",
       "1                 AGE_GRP    7.351231\n",
       "2           TRAVEL_STYL_1    7.058387\n",
       "3           TRAVEL_STYL_2    6.958940\n",
       "4           TRAVEL_STYL_3    4.288193\n",
       "5           TRAVEL_STYL_4    9.604211\n",
       "6           TRAVEL_STYL_5    8.382338\n",
       "7           TRAVEL_STYL_6    8.360303\n",
       "8           TRAVEL_STYL_7    8.541926\n",
       "9           TRAVEL_STYL_8   11.937605\n",
       "10        TRAVEL_MOTIVE_1    8.698019\n",
       "11  TRAVEL_COMPANIONS_NUM    3.748143\n",
       "12          VISIT_AREA_NM   14.696022\n",
       "13                MVMN_NM    0.001293"
      ]
     },
     "execution_count": 29,
     "metadata": {},
     "output_type": "execute_result"
    }
   ],
   "source": [
    "# 특성 중요도\n",
    "col_importance = pd.DataFrame({\n",
    "    'column': X_train.columns,\n",
    "    'importance': cb_reg.feature_importances_\n",
    "})\n",
    "\n",
    "col_importance"
   ]
  },
  {
   "cell_type": "markdown",
   "id": "d3b29a8d",
   "metadata": {},
   "source": [
    "### 추천 시스템 구축\n",
    "\n",
    "1. 방문지 목록을 생성\n",
    "2. 사용자 특성 입력\n",
    "3. 가상 만족도 예측\n",
    "4. 만족도가 높은 순으로 추천"
   ]
  },
  {
   "cell_type": "code",
   "execution_count": 30,
   "id": "c6f3f32e",
   "metadata": {},
   "outputs": [],
   "source": [
    "# 1. 방문지 목록 생성\n",
    "\n",
    "visit_areas = travel_df['VISIT_AREA_NM'].unique()\n",
    "# visit_areas[:10]"
   ]
  },
  {
   "cell_type": "code",
   "execution_count": 31,
   "id": "89e4da39",
   "metadata": {},
   "outputs": [
    {
     "data": {
      "text/plain": [
       "[np.float64(4.338881865504073),\n",
       " np.float64(4.149058377045566),\n",
       " np.float64(4.33214199958774),\n",
       " np.float64(4.190207715847474),\n",
       " np.float64(4.147286100972279),\n",
       " np.float64(4.126341464044342),\n",
       " np.float64(4.093713467767728),\n",
       " np.float64(4.147286100972279),\n",
       " np.float64(4.2713833543500925),\n",
       " np.float64(4.2051950289527)]"
      ]
     },
     "execution_count": 31,
     "metadata": {},
     "output_type": "execute_result"
    }
   ],
   "source": [
    "# 2. 사용자 특성 입력\n",
    "user_input = ['여', 60, 4, 4, 4, 4, 4, 4, 4, 4, 1, 2, '방문지', '자가용']\n",
    "pred_results = []\n",
    "\n",
    "# 3. 가상 만족도 예측\n",
    "for area in visit_areas:\n",
    "    user_input[-2] = area\n",
    "    dgstfn_pred = cb_reg.predict(user_input)\n",
    "    pred_results.append(dgstfn_pred)\n",
    "\n",
    "pred_results[:10]"
   ]
  },
  {
   "cell_type": "code",
   "execution_count": 32,
   "id": "c8a75431",
   "metadata": {},
   "outputs": [
    {
     "data": {
      "text/html": [
       "<div>\n",
       "<style scoped>\n",
       "    .dataframe tbody tr th:only-of-type {\n",
       "        vertical-align: middle;\n",
       "    }\n",
       "\n",
       "    .dataframe tbody tr th {\n",
       "        vertical-align: top;\n",
       "    }\n",
       "\n",
       "    .dataframe thead th {\n",
       "        text-align: right;\n",
       "    }\n",
       "</style>\n",
       "<table border=\"1\" class=\"dataframe\">\n",
       "  <thead>\n",
       "    <tr style=\"text-align: right;\">\n",
       "      <th></th>\n",
       "      <th>VISIT_AREA_NM</th>\n",
       "      <th>DGSTFN_PRED</th>\n",
       "    </tr>\n",
       "  </thead>\n",
       "  <tbody>\n",
       "    <tr>\n",
       "      <th>47</th>\n",
       "      <td>보래드베이커스</td>\n",
       "      <td>4.555464</td>\n",
       "    </tr>\n",
       "    <tr>\n",
       "      <th>3054</th>\n",
       "      <td>대정오일시장</td>\n",
       "      <td>4.549863</td>\n",
       "    </tr>\n",
       "    <tr>\n",
       "      <th>2023</th>\n",
       "      <td>호텔연</td>\n",
       "      <td>4.548418</td>\n",
       "    </tr>\n",
       "    <tr>\n",
       "      <th>824</th>\n",
       "      <td>호텔리젠트마린</td>\n",
       "      <td>4.546289</td>\n",
       "    </tr>\n",
       "    <tr>\n",
       "      <th>1485</th>\n",
       "      <td>청파식당횟집</td>\n",
       "      <td>4.546285</td>\n",
       "    </tr>\n",
       "    <tr>\n",
       "      <th>4749</th>\n",
       "      <td>제주스럽닭 서귀포올레점</td>\n",
       "      <td>4.544025</td>\n",
       "    </tr>\n",
       "    <tr>\n",
       "      <th>6434</th>\n",
       "      <td>알뜨르비행장</td>\n",
       "      <td>4.536824</td>\n",
       "    </tr>\n",
       "    <tr>\n",
       "      <th>129</th>\n",
       "      <td>스누피가든</td>\n",
       "      <td>4.536047</td>\n",
       "    </tr>\n",
       "    <tr>\n",
       "      <th>3448</th>\n",
       "      <td>막둥이해녀복순이네</td>\n",
       "      <td>4.536003</td>\n",
       "    </tr>\n",
       "    <tr>\n",
       "      <th>481</th>\n",
       "      <td>하라케케</td>\n",
       "      <td>4.533105</td>\n",
       "    </tr>\n",
       "  </tbody>\n",
       "</table>\n",
       "</div>"
      ],
      "text/plain": [
       "     VISIT_AREA_NM  DGSTFN_PRED\n",
       "47         보래드베이커스     4.555464\n",
       "3054        대정오일시장     4.549863\n",
       "2023           호텔연     4.548418\n",
       "824        호텔리젠트마린     4.546289\n",
       "1485        청파식당횟집     4.546285\n",
       "4749  제주스럽닭 서귀포올레점     4.544025\n",
       "6434        알뜨르비행장     4.536824\n",
       "129          스누피가든     4.536047\n",
       "3448     막둥이해녀복순이네     4.536003\n",
       "481           하라케케     4.533105"
      ]
     },
     "execution_count": 32,
     "metadata": {},
     "output_type": "execute_result"
    }
   ],
   "source": [
    "# 4. 만족도가 높은 순으로 출력 (추천)\n",
    "result_df = pd.DataFrame({\n",
    "    'VISIT_AREA_NM': visit_areas,\n",
    "    'DGSTFN_PRED': pred_results\n",
    "})\n",
    "\n",
    "result_df.sort_values(by='DGSTFN_PRED', ascending=False).head(10)"
   ]
  }
 ],
 "metadata": {
  "kernelspec": {
   "display_name": "ml_env",
   "language": "python",
   "name": "python3"
  },
  "language_info": {
   "codemirror_mode": {
    "name": "ipython",
    "version": 3
   },
   "file_extension": ".py",
   "mimetype": "text/x-python",
   "name": "python",
   "nbconvert_exporter": "python",
   "pygments_lexer": "ipython3",
   "version": "3.12.11"
  }
 },
 "nbformat": 4,
 "nbformat_minor": 5
}
