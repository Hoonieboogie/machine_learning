{
 "cells": [
  {
   "cell_type": "markdown",
   "id": "7e3689f8",
   "metadata": {},
   "source": [
    "### 아이템 기반 협업 필터링 (Item-based Collaborative Filtering)"
   ]
  },
  {
   "cell_type": "markdown",
   "id": "7f979a24",
   "metadata": {},
   "source": []
  }
 ],
 "metadata": {
  "language_info": {
   "name": "python"
  }
 },
 "nbformat": 4,
 "nbformat_minor": 5
}
