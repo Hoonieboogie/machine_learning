{
 "cells": [
  {
   "cell_type": "markdown",
   "id": "848d3f5c",
   "metadata": {},
   "source": [
    "# Ensemble: Boosting\n",
    "\n",
    "- 다양한 모델을 결합하여 예측 성능을 향상시키는 방법\n",
    "    - 깊이가 얕은 결정트리를 사용해 이전 트리의 오차를 보정하는 방식\n",
    "    - 순차적으로 경사하강법을 사용해 이전 트리의 오차를 줄여나감\n",
    "        - 분류 모델에서는 손실함수 LogLoss를 사용해 오차를 줄임\n",
    "        - 회귀 모델에서는 손실함수 MSE를 사용해 오차를 줄임\n",
    "    - Boosting 계열은 일반적으로 결정트리 개수를 늘려도 과적합에 강함\n",
    "    - 대표 알고리즘(모델): GradientBoosting, HistGradientBoosting,  **XGBoost (DMLC)**,  LightGBM(MS), CatBoost"
   ]
  },
  {
   "cell_type": "code",
   "execution_count": 3,
   "id": "282b6fb5",
   "metadata": {},
   "outputs": [],
   "source": [
    "import numpy as np\n",
    "import pandas as pd\n",
    "import matplotlib.pyplot as plt\n",
    "import seaborn as sns  "
   ]
  },
  {
   "cell_type": "markdown",
   "id": "759b1d00",
   "metadata": {},
   "source": [
    "## GradientBoosting 구현"
   ]
  },
  {
   "cell_type": "code",
   "execution_count": 1,
   "id": "3a388990",
   "metadata": {},
   "outputs": [],
   "source": [
    "from sklearn.tree import DecisionTreeRegressor"
   ]
  },
  {
   "cell_type": "code",
   "execution_count": 5,
   "id": "04b1c325",
   "metadata": {},
   "outputs": [],
   "source": [
    "class SimpleGradientBoostingClassifier:\n",
    "    def __init__(self, n_estimators=100, learning_rate = 0.1, max_depth=3):\n",
    "        self.n_estimators = n_estimators\n",
    "        self.learning_rate = learning_rate\n",
    "        self.max_depth = max_depth\n",
    "        self.initial_log_odds = 0       # 초기 예측값\n",
    "        self.trees = []                 # 내부적으로 가지고 있는 estimator 모음 배열\n",
    "    \n",
    "    \n",
    "    def log_odds(self, p): # p: 확률값\n",
    "        # 확률값 -> 로짓변환 (컴큐터 더 편하게 할라고)\n",
    "        return np.log(p / (1-p)) \n",
    "    \n",
    "    \n",
    "    def sigmoid(self, z):\n",
    "        # z값 -> 0~1 사이의 확률 값 변환\n",
    "        return 1 /(1+np.exp(-z))\n",
    "    \n",
    "    \n",
    "    def fit(self, X, y):\n",
    "        y_mean = np.mean(y) # 초기 예측값: 평균 (0과 1 다 더한 평균)\n",
    "        self.initial_log_odds = self.log_odds(y_mean)\n",
    "        y_pred_log_odds = np.full_like(y, self.initial_log_odds, dtype=np.float64)\n",
    "        \n",
    "        for _ in range(self.n_estimators): \n",
    "            y_pred_proba  = self.sigmoid(y_pred_log_odds)\n",
    "            residual = y - y_pred_proba # 이 잔차 값으로 학습을 진행함\n",
    "            tree = DecisionTreeRegressor(max_depth=self.max_depth)\n",
    "            tree.fit(X, residual)\n",
    "            self.trees.append(tree)\n",
    "            y_pred_log_odds += self.learning_rate * tree.predict(X)\n",
    "    \n",
    "    \n",
    "    def predict(self, X):\n",
    "        return (self.predict_proba(X) >= 0.5).astype(int) # boolean을 0 혹은 1로 변환\n",
    "        \n",
    "    \n",
    "    def predict_proba(self, X):\n",
    "        y_pred_log_odds = np.full((X.shape[0],), self.initial_log_odds) # 초기값 세팅\n",
    "        \n",
    "        for tree in self.trees:\n",
    "            y_pred_log_odds += self.learning_rate * tree.predict(X)\n",
    "        \n",
    "        return self.sigmoid(y_pred_log_odds)"
   ]
  },
  {
   "cell_type": "code",
   "execution_count": 12,
   "id": "715c4ce1",
   "metadata": {},
   "outputs": [
    {
     "name": "stdout",
     "output_type": "stream",
     "text": [
      "학습 정확도: 1.0\n",
      "평가 정확도: 0.965034965034965\n"
     ]
    }
   ],
   "source": [
    "from sklearn.datasets import load_breast_cancer\n",
    "from sklearn.model_selection import train_test_split\n",
    "from sklearn.metrics import accuracy_score\n",
    "\n",
    "data = load_breast_cancer()\n",
    "\n",
    "X_train, X_test, y_train, y_test = train_test_split(data.data, data.target, random_state=0)\n",
    "\n",
    "simple_gb_clf = SimpleGradientBoostingClassifier(\n",
    "    n_estimators=500,\n",
    "    learning_rate=0.1,\n",
    "    max_depth=3\n",
    ")\n",
    "\n",
    "simple_gb_clf.fit(X_train, y_train)\n",
    "\n",
    "y_pred_train = simple_gb_clf.predict(X_train)\n",
    "y_pred_test = simple_gb_clf.predict(X_test)\n",
    "\n",
    "print(f\"학습 정확도: {accuracy_score(y_train, y_pred_train)}\")\n",
    "print(f\"평가 정확도: {accuracy_score(y_test, y_pred_test)}\")"
   ]
  },
  {
   "cell_type": "markdown",
   "id": "6bdd690b",
   "metadata": {},
   "source": [
    "## GradientBoosting (라이브러리 활용)"
   ]
  },
  {
   "cell_type": "code",
   "execution_count": 13,
   "id": "7b086f3f",
   "metadata": {},
   "outputs": [
    {
     "name": "stdout",
     "output_type": "stream",
     "text": [
      "학습 정확도: 0.9882629107981221\n",
      "평가 정확도: 0.958041958041958\n"
     ]
    }
   ],
   "source": [
    "from sklearn.ensemble import GradientBoostingClassifier\n",
    "from sklearn.datasets import load_breast_cancer\n",
    "from sklearn.model_selection import train_test_split\n",
    "from sklearn.metrics import accuracy_score\n",
    "\n",
    "data = load_breast_cancer()\n",
    "X_train, X_test, y_train, y_test = train_test_split(data.data, data.target, random_state=0)\n",
    "\n",
    "gb_clf = GradientBoostingClassifier(\n",
    "    n_estimators=101,\n",
    "    learning_rate=0.01,\n",
    "    max_depth=3\n",
    ")\n",
    "\n",
    "gb_clf.fit(X_train, y_train)\n",
    "\n",
    "y_pred_train = gb_clf.predict(X_train)\n",
    "y_pred_test = gb_clf.predict(X_test)\n",
    "\n",
    "print(f\"학습 정확도: {accuracy_score(y_train, y_pred_train)}\")\n",
    "print(f\"평가 정확도: {accuracy_score(y_test, y_pred_test)}\")"
   ]
  },
  {
   "cell_type": "markdown",
   "id": "6ddfa686",
   "metadata": {},
   "source": [
    "### HistGradientBoosting\n",
    "\n",
    "- 고성능 GradientBoostin 모델로, 대규모 데이터셋 처리에 적합\n",
    "- Histogram 기반으로 256개의 구간으로 나누어 처리 병합하는 방식\n",
    "- 결측치가 있어도 전처리 필요 없음\n",
    "- LightGBM의 영향을 받아 만들어진 scikit-learn 모델"
   ]
  },
  {
   "cell_type": "code",
   "execution_count": 15,
   "id": "e91b63e4",
   "metadata": {},
   "outputs": [
    {
     "name": "stdout",
     "output_type": "stream",
     "text": [
      "학습 정확도: 0.9882629107981221\n",
      "평가 정확도: 0.972027972027972\n"
     ]
    }
   ],
   "source": [
    "from sklearn.ensemble import HistGradientBoostingClassifier\n",
    "\n",
    "hist_gb_clf = HistGradientBoostingClassifier(\n",
    "    learning_rate=0.1,\n",
    "    max_depth= 3,\n",
    "    max_bins= 255, # 255개의 구간으로 나누어 처리 (1개는 결측치 전용)\n",
    "    early_stopping=True, # 반복 중 '일정 횟수' 이상 성능 향상이 없으면 학습 종료\n",
    "    n_iter_no_change=5 # Early stopping에서 '일정 횟수' (기본값 10)\n",
    ")\n",
    "\n",
    "hist_gb_clf.fit(X_train, y_train)\n",
    "\n",
    "y_pred_train = hist_gb_clf.predict(X_train)\n",
    "y_pred_test = hist_gb_clf.predict(X_test)\n",
    "\n",
    "print(f\"학습 정확도: {accuracy_score(y_train, y_pred_train)}\")\n",
    "print(f\"평가 정확도: {accuracy_score(y_test, y_pred_test)}\")"
   ]
  },
  {
   "cell_type": "code",
   "execution_count": null,
   "id": "ea7b4d59",
   "metadata": {},
   "outputs": [
    {
     "data": {
      "text/plain": [
       "(30, 5)"
      ]
     },
     "execution_count": 18,
     "metadata": {},
     "output_type": "execute_result"
    }
   ],
   "source": [
    "# permutation_importances == 특성 중요도 (내부 학습 중이 아니라 외부 검정을 통해 계산)\n",
    "from sklearn.inspection import permutation_importance\n",
    "\n",
    "result = permutation_importance(\n",
    "    hist_gb_clf,    # 모델\n",
    "    X_train,        # X 데이터\n",
    "    y_train,        # y 데이터\n",
    "    n_repeats=5,    # 중요도 측정을 위해 무작위하게 사용할 feature를 섞는 횟수, 떨어진 만큼의 평균와 표춘편차 이용해서 계산\n",
    "    random_state=0\n",
    ")\n",
    "\n",
    "# importances_mean: 평균 중요도\n",
    "# importances_std: 중요도 표준편차\n",
    "# importances: 특성 중요도\n",
    "result.importances # shape는 (특성 개수, n_repeats)"
   ]
  },
  {
   "cell_type": "markdown",
   "id": "72680d9d",
   "metadata": {},
   "source": [
    "## 회귀모델"
   ]
  },
  {
   "cell_type": "markdown",
   "id": "b0c65a4f",
   "metadata": {},
   "source": [
    "`sklearn.datasets.load_diabetes` 데이터셋\n",
    "- 당뇨병 환자의 진단 자료를 바탕으로 만들어진 회귀용 데이터셋\n",
    "\n",
    "**데이터셋 설명:**\n",
    "- **목적**: 당뇨병 진행 정도(1년 후)를 예측\n",
    "- **데이터 수**: 442개의 샘플\n",
    "- **특성 수**: 10개의 특성 (10개의 입력 변수)\n",
    "- **타겟**: 연속형 값, 당뇨병의 1년 후 진행 상황을 나타냄\n",
    "\n",
    "**특성 설명:**\n",
    "데이터셋의 각 특성(피처)은 환자의 다양한 생체 정보\n",
    "\n",
    "1. **age**: 나이 (Age)\n",
    "2. **sex**: 성별 (Sex)\n",
    "3. **bmi**: 체질량 지수 (Body Mass Index)\n",
    "4. **bp**: 평균 혈압 (Average Blood Pressure)\n",
    "5. **s1**: 혈청 내 TC (Total Cholesterol)\n",
    "6. **s2**: 혈청 내 LDL (Low-Density Lipoproteins)\n",
    "7. **s3**: 혈청 내 HDL (High-Density Lipoproteins)\n",
    "8. **s4**: 혈청 내 TCH (Total Cholesterol / HDL)\n",
    "9. **s5**: 혈청 내 LTG (Log of Serum Triglycerides)\n",
    "10. **s6**: 혈당 수치 (Blood Sugar Level)\n",
    "\n",
    "**데이터 구조:**\n",
    "- **입력 데이터 (data)**: (442, 10) 크기의 NumPy 배열\n",
    "- **타겟 데이터 (target)**: (442,) 크기의 NumPy 배열로, 각 샘플의 타겟 값(연속형 값)을 포함"
   ]
  },
  {
   "cell_type": "code",
   "execution_count": 22,
   "id": "5cee80b1",
   "metadata": {},
   "outputs": [],
   "source": [
    "from sklearn.datasets import load_diabetes\n",
    "\n",
    "# 1. 데이터 로드\n",
    "diabetes_data = load_diabetes()"
   ]
  },
  {
   "cell_type": "code",
   "execution_count": 23,
   "id": "36d9ff58",
   "metadata": {},
   "outputs": [],
   "source": [
    "# 2. 데이터 분리\n",
    "from sklearn.model_selection import train_test_split\n",
    "\n",
    "X_train, X_test, y_train, y_test = train_test_split(diabetes_data.data, diabetes_data.target, random_state=42)"
   ]
  },
  {
   "cell_type": "code",
   "execution_count": 33,
   "id": "90817c0d",
   "metadata": {},
   "outputs": [],
   "source": [
    "# 3. HistoGradientBoostingRegressor 모델 생성\n",
    "from sklearn.ensemble import HistGradientBoostingRegressor\n",
    "\n",
    "hist_gb_reg = HistGradientBoostingRegressor(\n",
    "    max_iter=100,\n",
    "    learning_rate=0.05,\n",
    "    max_depth= 3,\n",
    "    #max_bins= 255, # 255개의 구간으로 나누어 처리 (1개는 결측치 전용)\n",
    "    #early_stopping=True, # 반복 중 '일정 횟수' 이상 성능 향상이 없으면 학습 종료\n",
    "    #n_iter_no_change=10, # Early stopping에서 '일정 횟수' (기본값 10)\n",
    "    random_state=0,\n",
    "    l2_regularization=0.5,\n",
    "    min_samples_leaf=5\n",
    ")"
   ]
  },
  {
   "cell_type": "code",
   "execution_count": null,
   "id": "b280a913",
   "metadata": {},
   "outputs": [
    {
     "name": "stdout",
     "output_type": "stream",
     "text": [
      "학습 MSE: 1489.73643339862, 평가 MSE: 2919.435300032376\n",
      "학습 R2: 0.753543596826666, 평가 R2: 0.4720435672290497\n"
     ]
    }
   ],
   "source": [
    "# 4~6. 학습 > 예측 > mse, r2_score 계산\n",
    "from sklearn.metrics import accuracy_score, mean_squared_error, r2_score\n",
    "\n",
    "hist_gb_reg.fit(X_train, y_train)\n",
    "\n",
    "y_pred_train = hist_gb_reg.predict(X_train)\n",
    "y_pred_test = hist_gb_reg.predict(X_test)\n",
    "\n",
    "print(f\"학습 MSE: {mean_squared_error(y_train, y_pred_train)}, 평가 MSE: {mean_squared_error(y_test, y_pred_test)}\")\n",
    "print(f\"학습 R2: {r2_score(y_train, y_pred_train)}, 평가 R2: {r2_score(y_test, y_pred_test)}\")"
   ]
  },
  {
   "cell_type": "markdown",
   "id": "127c654b",
   "metadata": {},
   "source": [
    "**Cross-validation (교차검증) 맛보기**"
   ]
  },
  {
   "cell_type": "code",
   "execution_count": null,
   "id": "bb2a3441",
   "metadata": {},
   "outputs": [
    {
     "data": {
      "text/plain": [
       "{'l2_regularization': 1.0,\n",
       " 'learning_rate': 0.05,\n",
       " 'max_bins': 255,\n",
       " 'max_depth': 1,\n",
       " 'max_iter': 300,\n",
       " 'min_samples_leaf': 30}"
      ]
     },
     "execution_count": 36,
     "metadata": {},
     "output_type": "execute_result"
    }
   ],
   "source": [
    "# 교차검증\n",
    "from sklearn.model_selection import GridSearchCV\n",
    "\n",
    "hist_gb_reb = HistGradientBoostingRegressor(random_state=0)\n",
    "\n",
    "\n",
    "param_grid = {\n",
    "    'max_iter': [100,200,300],\n",
    "    'max_depth': [1,3,5],\n",
    "    'learning_rate': [0.01, 0.05, 0.1],\n",
    "    'min_samples_leaf': [10, 20, 30],\n",
    "    'l2_regularization': [0.0, 0.1, 1.0],\n",
    "    'max_bins': [255, 127]\n",
    "}\n",
    "\n",
    "# 성능 최적화시키는 hyper-parmeter 값 찾아줌 (모든 조합 때려서)\n",
    "grid_search = GridSearchCV(hist_gb_reb, param_grid, cv=3, scoring='neg_mean_squared_error') # mse는 작을수록 좋은거니까 앞에 '-' 붙혀서 제일 큰 조합 찾을 수 있게 함\n",
    "grid_search.fit(X_train, y_train)\n",
    "\n",
    "# param_grid로 전달해준 하이퍼파라미터 중, 최고 성능 내는 조합\n",
    "grid_search.best_params_"
   ]
  },
  {
   "cell_type": "code",
   "execution_count": null,
   "id": "d097ad9f",
   "metadata": {},
   "outputs": [
    {
     "name": "stdout",
     "output_type": "stream",
     "text": [
      "학습 MSE: 1489.73643339862, 평가 MSE: 2919.435300032376\n",
      "학습 R2: 0.753543596826666, 평가 R2: 0.4720435672290497\n"
     ]
    }
   ],
   "source": [
    "# 최고 성능 내는 하이퍼파라미터로 조합으로 학습 됨 모델\n",
    "best_hist_gb_reg = grid_search.best_estimator_ \n",
    "\n",
    "y_pred_train = hist_gb_reg.predict(X_train)\n",
    "y_pred_test = hist_gb_reg.predict(X_test)\n",
    "\n",
    "print(f\"학습 MSE: {mean_squared_error(y_train, y_pred_train)}, 평가 MSE: {mean_squared_error(y_test, y_pred_test)}\")\n",
    "print(f\"학습 R2: {r2_score(y_train, y_pred_train)}, 평가 R2: {r2_score(y_test, y_pred_test)}\")"
   ]
  }
 ],
 "metadata": {
  "kernelspec": {
   "display_name": "ml_env",
   "language": "python",
   "name": "python3"
  },
  "language_info": {
   "codemirror_mode": {
    "name": "ipython",
    "version": 3
   },
   "file_extension": ".py",
   "mimetype": "text/x-python",
   "name": "python",
   "nbconvert_exporter": "python",
   "pygments_lexer": "ipython3",
   "version": "3.12.11"
  }
 },
 "nbformat": 4,
 "nbformat_minor": 5
}
